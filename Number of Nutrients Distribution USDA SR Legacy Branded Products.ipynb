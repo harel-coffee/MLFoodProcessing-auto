{
 "cells": [
  {
   "cell_type": "code",
   "execution_count": 1,
   "metadata": {
    "scrolled": true
   },
   "outputs": [
    {
     "data": {
      "text/html": [
       "<style>.container { width:85% !important; }</style>"
      ],
      "text/plain": [
       "<IPython.core.display.HTML object>"
      ]
     },
     "metadata": {},
     "output_type": "display_data"
    },
    {
     "data": {
      "text/html": [
       "        <script type=\"text/javascript\">\n",
       "        window.PlotlyConfig = {MathJaxConfig: 'local'};\n",
       "        if (window.MathJax) {MathJax.Hub.Config({SVG: {font: \"STIX-Web\"}});}\n",
       "        if (typeof require !== 'undefined') {\n",
       "        require.undef(\"plotly\");\n",
       "        requirejs.config({\n",
       "            paths: {\n",
       "                'plotly': ['https://cdn.plot.ly/plotly-2.2.0.min']\n",
       "            }\n",
       "        });\n",
       "        require(['plotly'], function(Plotly) {\n",
       "            window._Plotly = Plotly;\n",
       "        });\n",
       "        }\n",
       "        </script>\n",
       "        "
      ]
     },
     "metadata": {},
     "output_type": "display_data"
    },
    {
     "data": {
      "text/plain": [
       "'\\nReset a library to default settings\\n'"
      ]
     },
     "execution_count": 1,
     "metadata": {},
     "output_type": "execute_result"
    }
   ],
   "source": [
    "import xport\n",
    "import numpy as np\n",
    "import pandas as pd\n",
    "import os\n",
    "import collections\n",
    "\n",
    "import networkx as nx\n",
    "\n",
    "#https://songhuiming.github.io/pages/2017/04/02/jupyter-and-pandas-display/\n",
    "pd.set_option('display.max_rows', 800)\n",
    "pd.set_option('display.max_columns', 150)\n",
    "pd.set_option('display.max_colwidth', 0)\n",
    "\n",
    "from IPython.core.display import display, HTML\n",
    "display(HTML(\"<style>.container { width:85% !important; }</style>\"))\n",
    "# pd.set_option('display.float_format', lambda x: '%.4f' % x)\n",
    "\n",
    "import textwrap\n",
    "\n",
    "\"\"\"\n",
    "Connect Pltly to Jupyter notebook\n",
    "\"\"\"\n",
    "\n",
    "import plotly.graph_objs as go\n",
    "from plotly.offline import download_plotlyjs, init_notebook_mode, plot, iplot, plot_mpl\n",
    "init_notebook_mode(connected=True)\n",
    "\n",
    "from plotly.subplots import make_subplots\n",
    "import plotly.express as px\n",
    "\n",
    "import matplotlib\n",
    "import matplotlib.pyplot as plt\n",
    "\n",
    "matplotlib.rcParams['font.serif'] = \"serif\"\n",
    "matplotlib.rcParams['font.family'] = \"Times New Roman\"\n",
    "\n",
    "import seaborn as sns\n",
    "\n",
    "import plotly\n",
    "import plotly.io as pio\n",
    "\n",
    "import pickle\n",
    "\n",
    "# \n",
    "\n",
    "# from dynamicTreeCut import cutreeHybrid\n",
    "# from scipy.spatial.distance import pdist\n",
    "# from sklearn.cluster import AgglomerativeClustering\n",
    "# import scipy.cluster.hierarchy as sch\n",
    "\n",
    "# silence NumbaPerformanceWarning\n",
    "# import warnings\n",
    "# from numba.errors import NumbaPerformanceWarning\n",
    "# warnings.filterwarnings(\"ignore\", category=NumbaPerformanceWarning)\n",
    "\n",
    "\"\"\"\n",
    "Autoreload base modules\n",
    "\"\"\"\n",
    "\n",
    "%load_ext autoreload\n",
    "%autoreload 1\n",
    "\n",
    "%aimport FNDDS_base\n",
    "# %aimport TargetData\n",
    "# %aimport WholeFoodsData\n",
    "%aimport foodome_base\n",
    "# %aimport food_api\n",
    "\n",
    "# %aimport OpenFoodFacts.OpenFoodFactsAnalyze\n",
    "\n",
    "\"\"\"\n",
    "Reset a library to default settings\n",
    "\"\"\"\n",
    "# import importlib\n",
    "# importlib.reload(mpl); \n",
    "# importlib.reload(plt)\n",
    "# importlib.reload(sns)"
   ]
  },
  {
   "cell_type": "markdown",
   "metadata": {},
   "source": [
    "# Load Data"
   ]
  },
  {
   "cell_type": "code",
   "execution_count": 2,
   "metadata": {},
   "outputs": [
    {
     "name": "stdout",
     "output_type": "stream",
     "text": [
      "Loaded from pickle: nutrient\n",
      "Loaded input_data/FoodData_Central_2020-03-31.accdb --> Table: nutrient | Number of rows: 235\n",
      "Loaded input_data/FoodData_Central_2020-03-31.accdb --> Table: food_nutrient | Number of rows: 5370480\n",
      "Loaded from pickle: nutrient\n",
      "Loaded input_data/FoodData_Central_2020-03-31.accdb --> Table: nutrient | Number of rows: 235\n",
      "Loaded input_data/FoodData_Central_2020-03-31.accdb --> Table: food | Number of rows: 335142\n",
      "Loaded input_data/FoodData_Central_2020-03-31.accdb --> Table: branded_food | Number of rows: 299462\n",
      "Loaded input_data/FoodData_Central_2020-03-31.accdb --> Table: food_category | Number of rows: 28\n",
      "Loaded input_data/FoodData_Central_2020-03-31.accdb --> Table: food_attribute | Number of rows: 153975\n",
      "Loaded input_data/FoodData_Central_2020-03-31.accdb --> Table: survey_fndds_food | Number of rows: 8690\n",
      "Loaded input_data/FoodData_Central_2020-03-31.accdb --> Table: wweia_food_category | Number of rows: 155\n"
     ]
    }
   ],
   "source": [
    "datasets_path = {\n",
    "    \"FoodData_Central 2020-03-31\": \"input_data/FoodData_Central_2020-03-31.accdb\"\n",
    "}\n",
    "\n",
    "FDC20 = foodome_base.load_access_tables(dataset_path=datasets_path[\"FoodData_Central 2020-03-31\"],\n",
    "                               tables=[\n",
    "                                   \"nutrient\",\n",
    "                                   \"food_nutrient\", \"nutrient\", \"food\", \"branded_food\"\n",
    "                                   ,\"food_category\", \"food_attribute\",\n",
    "                                   \"survey_fndds_food\", \"wweia_food_category\"\n",
    "                                  ])\n",
    "\n",
    "FDC20[\"food_category\"][\"id\"] = FDC20[\"food_category\"][\"id\"].astype(float)\n",
    "FDC20[\"food\"][\"food_category_id\"] = FDC20[\"food\"][\"food_category_id\"].astype(float)\n",
    "\n",
    "FDC20[\"food\"] = pd.merge(\n",
    "    FDC20[\"food\"], \n",
    "    FDC20[\"food_category\"].rename(columns={\"code\": \"FDC_category_code\", \"description\": \"FDC_category_description\"}), \n",
    "    left_on=[\"food_category_id\"], right_on=[\"id\"], how=\"left\")\n",
    "\n",
    "FDC20[\"survey_fndds_food\"] = pd.merge(\n",
    "    FDC20[\"survey_fndds_food\"], \n",
    "    FDC20[\"wweia_food_category\"],#.rename(columns={\"code\": \"FDC_category_code\", \"description\": \"FDC_category_description\"}), \n",
    "    left_on=\"wweia_category_code\", right_on=\"wweia_food_category_code\").drop(columns=[\"wweia_category_code\"])"
   ]
  },
  {
   "cell_type": "code",
   "execution_count": 3,
   "metadata": {},
   "outputs": [
    {
     "name": "stderr",
     "output_type": "stream",
     "text": [
      "C:\\anaconda3\\envs\\foodome\\lib\\site-packages\\IPython\\core\\interactiveshell.py:3165: DtypeWarning:\n",
      "\n",
      "Columns (1) have mixed types.Specify dtype option on import or set low_memory=False.\n",
      "\n"
     ]
    },
    {
     "name": "stdout",
     "output_type": "stream",
     "text": [
      "['SR Legacy' 'FNDDS' 'USDA Branded' 'Open Food Facts' 'Target'\n",
      " 'WholeFoods' 'Walmart']\n"
     ]
    },
    {
     "data": {
      "text/html": [
       "<div>\n",
       "<style scoped>\n",
       "    .dataframe tbody tr th:only-of-type {\n",
       "        vertical-align: middle;\n",
       "    }\n",
       "\n",
       "    .dataframe tbody tr th {\n",
       "        vertical-align: top;\n",
       "    }\n",
       "\n",
       "    .dataframe thead th {\n",
       "        text-align: right;\n",
       "    }\n",
       "</style>\n",
       "<table border=\"1\" class=\"dataframe\">\n",
       "  <thead>\n",
       "    <tr style=\"text-align: right;\">\n",
       "      <th></th>\n",
       "      <th>Unnamed: 0</th>\n",
       "      <th>count_nutrients</th>\n",
       "    </tr>\n",
       "  </thead>\n",
       "  <tbody>\n",
       "    <tr>\n",
       "      <th>count</th>\n",
       "      <td>12317.000000</td>\n",
       "      <td>12317.000000</td>\n",
       "    </tr>\n",
       "    <tr>\n",
       "      <th>mean</th>\n",
       "      <td>6860.818625</td>\n",
       "      <td>15.979865</td>\n",
       "    </tr>\n",
       "    <tr>\n",
       "      <th>std</th>\n",
       "      <td>3997.068573</td>\n",
       "      <td>6.394502</td>\n",
       "    </tr>\n",
       "    <tr>\n",
       "      <th>min</th>\n",
       "      <td>0.000000</td>\n",
       "      <td>1.000000</td>\n",
       "    </tr>\n",
       "    <tr>\n",
       "      <th>25%</th>\n",
       "      <td>3490.000000</td>\n",
       "      <td>15.000000</td>\n",
       "    </tr>\n",
       "    <tr>\n",
       "      <th>50%</th>\n",
       "      <td>6812.000000</td>\n",
       "      <td>15.000000</td>\n",
       "    </tr>\n",
       "    <tr>\n",
       "      <th>75%</th>\n",
       "      <td>10176.000000</td>\n",
       "      <td>16.000000</td>\n",
       "    </tr>\n",
       "    <tr>\n",
       "      <th>max</th>\n",
       "      <td>14409.000000</td>\n",
       "      <td>35.000000</td>\n",
       "    </tr>\n",
       "  </tbody>\n",
       "</table>\n",
       "</div>"
      ],
      "text/plain": [
       "         Unnamed: 0  count_nutrients\n",
       "count  12317.000000  12317.000000   \n",
       "mean   6860.818625   15.979865      \n",
       "std    3997.068573   6.394502       \n",
       "min    0.000000      1.000000       \n",
       "25%    3490.000000   15.000000      \n",
       "50%    6812.000000   15.000000      \n",
       "75%    10176.000000  16.000000      \n",
       "max    14409.000000  35.000000      "
      ]
     },
     "execution_count": 3,
     "metadata": {},
     "output_type": "execute_result"
    }
   ],
   "source": [
    "q = pd.read_csv(\"input_data/all_food_datasets_nuts_num.csv\")\n",
    "\n",
    "q[q[\"count_nutrients\"] == 0]\n",
    "print(q['dataset'].unique())\n",
    "q.columns\n",
    "\n",
    "q[(q[\"dataset\"] == \"WholeFoods\") & (q[\"count_nutrients\"] > 0)].describe()"
   ]
  },
  {
   "cell_type": "code",
   "execution_count": 4,
   "metadata": {},
   "outputs": [
    {
     "data": {
      "text/html": [
       "<div>\n",
       "<style scoped>\n",
       "    .dataframe tbody tr th:only-of-type {\n",
       "        vertical-align: middle;\n",
       "    }\n",
       "\n",
       "    .dataframe tbody tr th {\n",
       "        vertical-align: top;\n",
       "    }\n",
       "\n",
       "    .dataframe thead th {\n",
       "        text-align: right;\n",
       "    }\n",
       "</style>\n",
       "<table border=\"1\" class=\"dataframe\">\n",
       "  <thead>\n",
       "    <tr style=\"text-align: right;\">\n",
       "      <th></th>\n",
       "      <th>Unnamed: 0</th>\n",
       "      <th>id</th>\n",
       "      <th>count_nutrients</th>\n",
       "      <th>category_name</th>\n",
       "      <th>dataset</th>\n",
       "    </tr>\n",
       "  </thead>\n",
       "  <tbody>\n",
       "    <tr>\n",
       "      <th>7793</th>\n",
       "      <td>0</td>\n",
       "      <td>781082</td>\n",
       "      <td>65.0</td>\n",
       "      <td>Human milk</td>\n",
       "      <td>FNDDS</td>\n",
       "    </tr>\n",
       "    <tr>\n",
       "      <th>7794</th>\n",
       "      <td>1</td>\n",
       "      <td>781083</td>\n",
       "      <td>65.0</td>\n",
       "      <td>Milk, reduced fat</td>\n",
       "      <td>FNDDS</td>\n",
       "    </tr>\n",
       "    <tr>\n",
       "      <th>7795</th>\n",
       "      <td>2</td>\n",
       "      <td>781084</td>\n",
       "      <td>65.0</td>\n",
       "      <td>Milk, whole</td>\n",
       "      <td>FNDDS</td>\n",
       "    </tr>\n",
       "    <tr>\n",
       "      <th>7796</th>\n",
       "      <td>3</td>\n",
       "      <td>781085</td>\n",
       "      <td>65.0</td>\n",
       "      <td>Milk, whole</td>\n",
       "      <td>FNDDS</td>\n",
       "    </tr>\n",
       "    <tr>\n",
       "      <th>7797</th>\n",
       "      <td>4</td>\n",
       "      <td>781086</td>\n",
       "      <td>65.0</td>\n",
       "      <td>Milk, whole</td>\n",
       "      <td>FNDDS</td>\n",
       "    </tr>\n",
       "    <tr>\n",
       "      <th>...</th>\n",
       "      <td>...</td>\n",
       "      <td>...</td>\n",
       "      <td>...</td>\n",
       "      <td>...</td>\n",
       "      <td>...</td>\n",
       "    </tr>\n",
       "    <tr>\n",
       "      <th>16478</th>\n",
       "      <td>8685</td>\n",
       "      <td>789767</td>\n",
       "      <td>65.0</td>\n",
       "      <td>Not included in a food category</td>\n",
       "      <td>FNDDS</td>\n",
       "    </tr>\n",
       "    <tr>\n",
       "      <th>16479</th>\n",
       "      <td>8686</td>\n",
       "      <td>789768</td>\n",
       "      <td>65.0</td>\n",
       "      <td>Not included in a food category</td>\n",
       "      <td>FNDDS</td>\n",
       "    </tr>\n",
       "    <tr>\n",
       "      <th>16480</th>\n",
       "      <td>8687</td>\n",
       "      <td>789769</td>\n",
       "      <td>65.0</td>\n",
       "      <td>Not included in a food category</td>\n",
       "      <td>FNDDS</td>\n",
       "    </tr>\n",
       "    <tr>\n",
       "      <th>16481</th>\n",
       "      <td>8688</td>\n",
       "      <td>789770</td>\n",
       "      <td>65.0</td>\n",
       "      <td>Not included in a food category</td>\n",
       "      <td>FNDDS</td>\n",
       "    </tr>\n",
       "    <tr>\n",
       "      <th>16482</th>\n",
       "      <td>8689</td>\n",
       "      <td>789771</td>\n",
       "      <td>65.0</td>\n",
       "      <td>Diet sport and energy drinks</td>\n",
       "      <td>FNDDS</td>\n",
       "    </tr>\n",
       "  </tbody>\n",
       "</table>\n",
       "<p>8690 rows × 5 columns</p>\n",
       "</div>"
      ],
      "text/plain": [
       "       Unnamed: 0      id  count_nutrients                    category_name  \\\n",
       "7793   0           781082  65.0             Human milk                        \n",
       "7794   1           781083  65.0             Milk, reduced fat                 \n",
       "7795   2           781084  65.0             Milk, whole                       \n",
       "7796   3           781085  65.0             Milk, whole                       \n",
       "7797   4           781086  65.0             Milk, whole                       \n",
       "...   ..              ...   ...                     ...                       \n",
       "16478  8685        789767  65.0             Not included in a food category   \n",
       "16479  8686        789768  65.0             Not included in a food category   \n",
       "16480  8687        789769  65.0             Not included in a food category   \n",
       "16481  8688        789770  65.0             Not included in a food category   \n",
       "16482  8689        789771  65.0             Diet sport and energy drinks      \n",
       "\n",
       "      dataset  \n",
       "7793   FNDDS   \n",
       "7794   FNDDS   \n",
       "7795   FNDDS   \n",
       "7796   FNDDS   \n",
       "7797   FNDDS   \n",
       "...      ...   \n",
       "16478  FNDDS   \n",
       "16479  FNDDS   \n",
       "16480  FNDDS   \n",
       "16481  FNDDS   \n",
       "16482  FNDDS   \n",
       "\n",
       "[8690 rows x 5 columns]"
      ]
     },
     "execution_count": 4,
     "metadata": {},
     "output_type": "execute_result"
    }
   ],
   "source": [
    "q[q['dataset'] == 'FNDDS']"
   ]
  },
  {
   "cell_type": "markdown",
   "metadata": {},
   "source": [
    "# Create Distribution of Number of Nutrients"
   ]
  },
  {
   "cell_type": "code",
   "execution_count": 6,
   "metadata": {},
   "outputs": [],
   "source": [
    "from matplotlib.ticker import (MultipleLocator, FormatStrFormatter,\n",
    "                               AutoMinorLocator)\n",
    "\n",
    "def plot_nuts(dist_data_dict, remove_kde_fit_line=False):\n",
    "    fig, axes = plt.subplots(len(dist_data_dict), 2, figsize=(14, 2.5 * len(dist_data_dict)))\n",
    "    plt.subplots_adjust(left=None, bottom=None, right=None, top=None, wspace=None, hspace=0.35)\n",
    "       \n",
    "    if len(dist_data_dict) == 1:\n",
    "        axes = np.array([[axes[0], axes[1]]])\n",
    "        pass\n",
    "    \n",
    "    i = 0\n",
    "    \n",
    "    for name, data_dict in dist_data_dict.items():\n",
    "        num_records = len(data_dict[\"dist_array\"])\n",
    "        title = \"{} - {:,} Products\".format(name, num_records)\n",
    "        \n",
    "        x = sns.distplot(data_dict[\"dist_array\"], kde=False, rug=False, ax = axes[i, 0])\n",
    "        x.set_yscale('log')\n",
    "        # x.set_xscale('log')\n",
    "        axes[i, 0].set_title(title + \" (y-axis log scale)\", pad=None)\n",
    "#         axes[i, 0].xaxis.set_major_locator(MultipleLocator(5))\n",
    "\n",
    "        x = sns.distplot(data_dict[\"dist_array\"], kde=True, rug=False, ax = axes[i, 1])\n",
    "        axes[i, 1].set_title(\"PDF - \" + title, pad=None)\n",
    "        if remove_kde_fit_line:\n",
    "            x.get_lines()[0].remove()\n",
    "            pass\n",
    "#         axes[i, 0].xaxis.set_major_locator(MultipleLocator(5))\n",
    "#         axes[i, 0].xaxis.set_minor_locator(MultipleLocator(1))\n",
    "\n",
    "        i += 1\n",
    "        pass\n",
    "    pass"
   ]
  },
  {
   "cell_type": "markdown",
   "metadata": {},
   "source": [
    "# Median Num Nuts for Branded Products"
   ]
  },
  {
   "cell_type": "code",
   "execution_count": 9,
   "metadata": {
    "scrolled": true
   },
   "outputs": [],
   "source": [
    "food_df = FDC20[\"food\"]\n",
    "\n",
    "food_nuts_df = pd.merge(\n",
    "        food_df,\n",
    "        FDC20[\"food_nutrient\"][[\"fdc_id\", \"nutrient_id\", \"amount\"]], \n",
    "        on=\"fdc_id\", how=\"left\"\n",
    "    )\n",
    "\n",
    "energy_nuts_ids = {\n",
    "            'Energy KCAL': 1008, # 'Energy 1008' unit: KCAL\n",
    "            # in FNDDS is called 'Energy' with nut id 1008\n",
    "            'Energy kJ': 1062, # 'Energy 1062' unit: kJ (this id is NOT used in FNDDS)\n",
    "#             'Folate, DFE': 1190, # 'Folate, DFE 1190',\n",
    "#             'Vitamin A, RAE': 1106 # 'Vitamin A, RAE 1106'\n",
    "        }\n",
    "        \n",
    "food_nuts_df = food_nuts_df[~food_nuts_df[\"nutrient_id\"].isin(energy_nuts_ids.values())]\n",
    "\n",
    "branded_df = food_nuts_df[food_nuts_df['data_type'] == 'branded_food']\n",
    "# # FDC20['branded_food']\n",
    "# len(branded_df)\n",
    "branded_nut_count = branded_df.groupby('fdc_id').agg(count_nutrients = ('fdc_id', np.size)).reset_index()"
   ]
  },
  {
   "cell_type": "code",
   "execution_count": 10,
   "metadata": {},
   "outputs": [
    {
     "name": "stdout",
     "output_type": "stream",
     "text": [
      "Median num nuts (filtered calories):  13.0\n"
     ]
    },
    {
     "data": {
      "text/plain": [
       "count    299443.000000\n",
       "mean     12.602869    \n",
       "std      3.962854     \n",
       "min      1.000000     \n",
       "25%      12.000000    \n",
       "50%      13.000000    \n",
       "75%      14.000000    \n",
       "max      47.000000    \n",
       "Name: count_nutrients, dtype: float64"
      ]
     },
     "execution_count": 10,
     "metadata": {},
     "output_type": "execute_result"
    }
   ],
   "source": [
    "print('Median num nuts (filtered calories): ', branded_nut_count['count_nutrients'].median())\n",
    "branded_nut_count['count_nutrients'].describe()"
   ]
  },
  {
   "cell_type": "code",
   "execution_count": 11,
   "metadata": {
    "scrolled": true
   },
   "outputs": [
    {
     "name": "stdout",
     "output_type": "stream",
     "text": [
      "299443\n"
     ]
    },
    {
     "data": {
      "text/plain": [
       "fdc_id  count_nutrients\n",
       "344646  31                 0.000003\n",
       "589624  13                 0.000003\n",
       "589645  13                 0.000003\n",
       "589644  14                 0.000003\n",
       "589643  20                 0.000003\n",
       "                             ...   \n",
       "469749  13                 0.000003\n",
       "469748  13                 0.000003\n",
       "469747  13                 0.000003\n",
       "469744  22                 0.000003\n",
       "808659  4                  0.000003\n",
       "Length: 299443, dtype: float64"
      ]
     },
     "execution_count": 11,
     "metadata": {},
     "output_type": "execute_result"
    }
   ],
   "source": [
    "print(len(branded_nut_count))\n",
    "branded_nut_count.value_counts() / len(branded_nut_count)"
   ]
  },
  {
   "cell_type": "raw",
   "metadata": {},
   "source": [
    "food_nuts_df\n",
    "\n",
    "def has_12_nuts():\n",
    "    nut_12p = {\n",
    "        'Protein': 203, 'Total Fat':204,'Carbohydrate': 205, \n",
    "        'Sugars, total': 269, 'Fiber, total dietary': 291, \n",
    "        'Calcium': 301, 'Iron': 303, 'Sodium': 307,'Vitamin C': 401, \n",
    "        'Cholesterol': 601, 'Fatty acids, total saturated': 606, \n",
    "        'Vitamin A, IU': 318, 'Vitamin A, RAE': 320\n",
    "    }\n",
    "    \n",
    "    pass\n",
    "\n",
    "branded_nut_count['has 12 nuts'] = branded_nut_count['fdc_id'].apply(has_12_nuts)"
   ]
  },
  {
   "cell_type": "code",
   "execution_count": 14,
   "metadata": {
    "scrolled": true
   },
   "outputs": [
    {
     "data": {
      "text/html": [
       "<div>\n",
       "<style scoped>\n",
       "    .dataframe tbody tr th:only-of-type {\n",
       "        vertical-align: middle;\n",
       "    }\n",
       "\n",
       "    .dataframe tbody tr th {\n",
       "        vertical-align: top;\n",
       "    }\n",
       "\n",
       "    .dataframe thead th {\n",
       "        text-align: right;\n",
       "    }\n",
       "</style>\n",
       "<table border=\"1\" class=\"dataframe\">\n",
       "  <thead>\n",
       "    <tr style=\"text-align: right;\">\n",
       "      <th></th>\n",
       "      <th>id</th>\n",
       "      <th>name</th>\n",
       "      <th>unit_name</th>\n",
       "      <th>nutrient_nbr</th>\n",
       "      <th>rank</th>\n",
       "    </tr>\n",
       "  </thead>\n",
       "  <tbody>\n",
       "    <tr>\n",
       "      <th>24</th>\n",
       "      <td>1063</td>\n",
       "      <td>Sugars, Total NLEA</td>\n",
       "      <td>G</td>\n",
       "      <td>269.3</td>\n",
       "      <td>1500.0</td>\n",
       "    </tr>\n",
       "    <tr>\n",
       "      <th>131</th>\n",
       "      <td>1235</td>\n",
       "      <td>Sugars, added</td>\n",
       "      <td>G</td>\n",
       "      <td>539</td>\n",
       "      <td>1540.0</td>\n",
       "    </tr>\n",
       "    <tr>\n",
       "      <th>208</th>\n",
       "      <td>2000</td>\n",
       "      <td>Sugars, total including NLEA</td>\n",
       "      <td>G</td>\n",
       "      <td>269</td>\n",
       "      <td>1510.0</td>\n",
       "    </tr>\n",
       "  </tbody>\n",
       "</table>\n",
       "</div>"
      ],
      "text/plain": [
       "       id                          name unit_name nutrient_nbr    rank\n",
       "24   1063  Sugars, Total NLEA            G         269.3        1500.0\n",
       "131  1235  Sugars, added                 G         539          1540.0\n",
       "208  2000  Sugars, total including NLEA  G         269          1510.0"
      ]
     },
     "execution_count": 14,
     "metadata": {},
     "output_type": "execute_result"
    }
   ],
   "source": [
    "FDC20['nutrient'][FDC20['nutrient']['name'].str.contains('Sugars', case=False)]\n",
    "# FDC20['nutrient']\n",
    "# FDC20['nutrient'][FDC20['nutrient']['nutrient_nbr'].astype(float).isin(nut_12p.values())]"
   ]
  },
  {
   "cell_type": "code",
   "execution_count": 15,
   "metadata": {
    "scrolled": true
   },
   "outputs": [
    {
     "data": {
      "text/plain": [
       "0      202  \n",
       "1      203  \n",
       "2      204  \n",
       "3      205  \n",
       "4      207  \n",
       "5      208  \n",
       "6      209  \n",
       "7      210  \n",
       "8      211  \n",
       "9      212  \n",
       "10     213  \n",
       "11     214  \n",
       "12     221  \n",
       "13     227  \n",
       "14     230  \n",
       "15     236  \n",
       "16     242  \n",
       "17     243  \n",
       "18     205.2\n",
       "19     255  \n",
       "20     261  \n",
       "21     262  \n",
       "22     263  \n",
       "23     268  \n",
       "24     269.3\n",
       "25     284  \n",
       "26     287  \n",
       "27     290  \n",
       "28     291  \n",
       "29     294  \n",
       "30     295  \n",
       "31     297  \n",
       "32     298  \n",
       "33     299  \n",
       "34     301  \n",
       "35     302  \n",
       "36     303  \n",
       "37     304  \n",
       "38     305  \n",
       "39     306  \n",
       "40     307  \n",
       "41     308  \n",
       "42     309  \n",
       "43     310  \n",
       "44     311  \n",
       "45     312  \n",
       "46     313  \n",
       "47     314  \n",
       "48     315  \n",
       "49     316  \n",
       "50     317  \n",
       "51     318  \n",
       "52     319  \n",
       "53     320  \n",
       "54     321  \n",
       "55     322  \n",
       "56     323  \n",
       "57     324  \n",
       "58     325  \n",
       "59     326  \n",
       "60     327  \n",
       "61     328  \n",
       "62     330  \n",
       "63     331  \n",
       "64     338.2\n",
       "65     334  \n",
       "66     338.1\n",
       "67     337  \n",
       "68     338  \n",
       "69     340  \n",
       "70     341  \n",
       "71     342  \n",
       "72     343  \n",
       "73     344  \n",
       "74     345  \n",
       "75     346  \n",
       "76     347  \n",
       "77     354  \n",
       "78     371  \n",
       "79     394  \n",
       "80     321.1\n",
       "81     337.1\n",
       "82     338.3\n",
       "83     401  \n",
       "84     404  \n",
       "85     405  \n",
       "86     406  \n",
       "87     410  \n",
       "88     415  \n",
       "89     416  \n",
       "90     417  \n",
       "91     418  \n",
       "92     421  \n",
       "93     422  \n",
       "94     428  \n",
       "95     429  \n",
       "96     430  \n",
       "97     431  \n",
       "98     432  \n",
       "99     433  \n",
       "100    435  \n",
       "101    436  \n",
       "102    437  \n",
       "103    450  \n",
       "104    451  \n",
       "105    452  \n",
       "106    453  \n",
       "107    454  \n",
       "108    455  \n",
       "109    501  \n",
       "110    502  \n",
       "111    503  \n",
       "112    504  \n",
       "113    505  \n",
       "114    506  \n",
       "115    507  \n",
       "116    508  \n",
       "117    509  \n",
       "118    510  \n",
       "119    511  \n",
       "120    512  \n",
       "121    513  \n",
       "122    514  \n",
       "123    515  \n",
       "124    516  \n",
       "125    517  \n",
       "126    518  \n",
       "127    521  \n",
       "128    526  \n",
       "129    528  \n",
       "130    529  \n",
       "131    539  \n",
       "132    573  \n",
       "133    578  \n",
       "134    601  \n",
       "135    605  \n",
       "136    606  \n",
       "137    607  \n",
       "138    608  \n",
       "139    609  \n",
       "140    610  \n",
       "141    611  \n",
       "142    612  \n",
       "143    613  \n",
       "144    614  \n",
       "145    615  \n",
       "146    617  \n",
       "147    618  \n",
       "148    619  \n",
       "149    620  \n",
       "150    621  \n",
       "151    624  \n",
       "152    625  \n",
       "153    626  \n",
       "154    627  \n",
       "155    628  \n",
       "156    629  \n",
       "157    630  \n",
       "158    631  \n",
       "159    821  \n",
       "160    636  \n",
       "161    638  \n",
       "162    639  \n",
       "163    640  \n",
       "164    641  \n",
       "165    642  \n",
       "166    645  \n",
       "167    646  \n",
       "168    647  \n",
       "169    649  \n",
       "170    651  \n",
       "171    652  \n",
       "172    653  \n",
       "173    654  \n",
       "174    662  \n",
       "175    663  \n",
       "176    664  \n",
       "177    665  \n",
       "178    666  \n",
       "179    669  \n",
       "180    670  \n",
       "181    671  \n",
       "182    672  \n",
       "183    673  \n",
       "184    674  \n",
       "185    675  \n",
       "186    676  \n",
       "187    685  \n",
       "188    687  \n",
       "189    689  \n",
       "190    693  \n",
       "191    694  \n",
       "192    695  \n",
       "193    696  \n",
       "194    697  \n",
       "195    698  \n",
       "196    699  \n",
       "197    753  \n",
       "198    806  \n",
       "199    851  \n",
       "200    852  \n",
       "201    853  \n",
       "202    855  \n",
       "203    856  \n",
       "204    857  \n",
       "205    858  \n",
       "206    859  \n",
       "207    861  \n",
       "208    269  \n",
       "209    632  \n",
       "210    633  \n",
       "211    634  \n",
       "212    681  \n",
       "213    682  \n",
       "214    635  \n",
       "215    822  \n",
       "216    825  \n",
       "217    829  \n",
       "218    830  \n",
       "219    676.1\n",
       "220    676.2\n",
       "221    831  \n",
       "222    833  \n",
       "223    834  \n",
       "224    835  \n",
       "225    683  \n",
       "226    836  \n",
       "227    837  \n",
       "228    838  \n",
       "229    839  \n",
       "230    840  \n",
       "231    321.2\n",
       "232    337.2\n",
       "233    335  \n",
       "234    293  \n",
       "Name: nutrient_nbr, dtype: object"
      ]
     },
     "execution_count": 15,
     "metadata": {},
     "output_type": "execute_result"
    }
   ],
   "source": [
    "FDC20['nutrient'][FDC20['nutrient']['name'].str.contains('vitamin', case=False)]\n",
    "FDC20['nutrient']['nutrient_nbr']"
   ]
  },
  {
   "cell_type": "code",
   "execution_count": 16,
   "metadata": {},
   "outputs": [],
   "source": [
    "# \"12P\": [\n",
    "#         'protein', 'totalFat', 'carbohydrates', 'sugar', 'fiber', 'calcium', 'iron',\n",
    "#         'sodium', 'vitaminC', 'cholesterol', 'saturatedFat', 'vitaminA'\n",
    "#     ]\n",
    "    \n",
    "nut_12p = {\n",
    "    'Protein': 203, 'Total Fat':204,'Carbohydrate': 205, \n",
    "    'Sugars, total': 269, 'Fiber, total dietary': 291, \n",
    "    'Calcium': 301, 'Iron': 303, 'Sodium': 307,'Vitamin C': 401, \n",
    "    'Cholesterol': 601, 'Fatty acids, total saturated': 606, \n",
    "    'Vitamin A, IU': 318, 'Vitamin A, RAE': 320\n",
    "}"
   ]
  },
  {
   "cell_type": "markdown",
   "metadata": {},
   "source": [
    "# All Other"
   ]
  },
  {
   "cell_type": "markdown",
   "metadata": {
    "scrolled": true
   },
   "source": [
    "List of sources in food data central"
   ]
  },
  {
   "cell_type": "code",
   "execution_count": 17,
   "metadata": {},
   "outputs": [
    {
     "data": {
      "text/html": [
       "<div>\n",
       "<style scoped>\n",
       "    .dataframe tbody tr th:only-of-type {\n",
       "        vertical-align: middle;\n",
       "    }\n",
       "\n",
       "    .dataframe tbody tr th {\n",
       "        vertical-align: top;\n",
       "    }\n",
       "\n",
       "    .dataframe thead th {\n",
       "        text-align: right;\n",
       "    }\n",
       "</style>\n",
       "<table border=\"1\" class=\"dataframe\">\n",
       "  <thead>\n",
       "    <tr style=\"text-align: right;\">\n",
       "      <th></th>\n",
       "      <th>description</th>\n",
       "    </tr>\n",
       "    <tr>\n",
       "      <th>data_type</th>\n",
       "      <th></th>\n",
       "    </tr>\n",
       "  </thead>\n",
       "  <tbody>\n",
       "    <tr>\n",
       "      <th>agricultural_acquisition</th>\n",
       "      <td>810</td>\n",
       "    </tr>\n",
       "    <tr>\n",
       "      <th>branded_food</th>\n",
       "      <td>299462</td>\n",
       "    </tr>\n",
       "    <tr>\n",
       "      <th>foundation_food</th>\n",
       "      <td>116</td>\n",
       "    </tr>\n",
       "    <tr>\n",
       "      <th>market_acquisition</th>\n",
       "      <td>5229</td>\n",
       "    </tr>\n",
       "    <tr>\n",
       "      <th>sample_food</th>\n",
       "      <td>1731</td>\n",
       "    </tr>\n",
       "    <tr>\n",
       "      <th>sr_legacy_food</th>\n",
       "      <td>7793</td>\n",
       "    </tr>\n",
       "    <tr>\n",
       "      <th>sub_sample_food</th>\n",
       "      <td>11311</td>\n",
       "    </tr>\n",
       "    <tr>\n",
       "      <th>survey_fndds_food</th>\n",
       "      <td>8690</td>\n",
       "    </tr>\n",
       "  </tbody>\n",
       "</table>\n",
       "</div>"
      ],
      "text/plain": [
       "                          description\n",
       "data_type                            \n",
       "agricultural_acquisition  810        \n",
       "branded_food              299462     \n",
       "foundation_food           116        \n",
       "market_acquisition        5229       \n",
       "sample_food               1731       \n",
       "sr_legacy_food            7793       \n",
       "sub_sample_food           11311      \n",
       "survey_fndds_food         8690       "
      ]
     },
     "execution_count": 17,
     "metadata": {},
     "output_type": "execute_result"
    }
   ],
   "source": [
    "FDC20[\"food\"].groupby(\"data_type\").agg({\"description\": np.size})"
   ]
  },
  {
   "cell_type": "code",
   "execution_count": 20,
   "metadata": {
    "scrolled": true
   },
   "outputs": [
    {
     "name": "stdout",
     "output_type": "stream",
     "text": [
      "AllNuts [65]: ['Protein', 'Total Fat', 'Carbohydrate', 'Energy', 'Alcohol', 'Water', 'Caffeine', 'Theobromine', 'Sugars, total', 'Fiber, total dietary', 'Calcium', 'Iron', 'Magnesium', 'Phosphorus', 'Potassium', 'Sodium', 'Zinc', 'Copper', 'Selenium', 'Retinol', 'Vitamin A, RAE', 'Carotene, beta', 'Carotene, alpha', 'Vitamin E (alpha-tocopherol)', 'Vitamin D (D2 + D3)', 'Cryptoxanthin, beta', 'Lycopene', 'Lutein + zeaxanthin', 'Vitamin C', 'Thiamin', 'Riboflavin', 'Niacin', 'Vitamin B-6', 'Folate, total', 'Vitamin B-12', 'Choline, total', 'Vitamin K (phylloquinone)', 'Folic acid', 'Folate, food', 'Folate, DFE', 'Vitamin E, added', 'Vitamin B-12, added', 'Cholesterol', 'Fatty acids, total saturated', '4:0', '6:0', '8:0', '10:0', '12:0', '14:0', '16:0', '18:0', '18:1', '18:2', '18:3', '20:4', '22:6 n-3', '16:1', '18:4', '20:1', '20:5 n-3', '22:1', '22:5 n-3', 'Fatty acids, total monounsaturated', 'Fatty acids, total polyunsaturated']\n",
      "\n",
      "G Nuts [62]: ['Protein', 'Total Fat', 'Carbohydrate', 'Alcohol', 'Water', 'Caffeine', 'Theobromine', 'Sugars, total', 'Fiber, total dietary', 'Calcium', 'Iron', 'Magnesium', 'Phosphorus', 'Potassium', 'Sodium', 'Zinc', 'Copper', 'Selenium', 'Retinol', 'Carotene, beta', 'Carotene, alpha', 'Vitamin E (alpha-tocopherol)', 'Vitamin D (D2 + D3)', 'Cryptoxanthin, beta', 'Lycopene', 'Lutein + zeaxanthin', 'Vitamin C', 'Thiamin', 'Riboflavin', 'Niacin', 'Vitamin B-6', 'Folate, total', 'Vitamin B-12', 'Choline, total', 'Vitamin K (phylloquinone)', 'Folic acid', 'Folate, food', 'Vitamin E, added', 'Vitamin B-12, added', 'Cholesterol', 'Fatty acids, total saturated', '4:00', '6:00', '8:00', '10:00', '12:00', '14:00', '16:00', '18:00', '18:01', '18:02', '18:03', '20:04', '22:6 n-3', '16:01', '18:04', '20:01', '20:5 n-3', '22:01', '22:5 n-3', 'Fatty acids, total monounsaturated', 'Fatty acids, total polyunsaturated']\n"
     ]
    },
    {
     "data": {
      "text/plain": [
       "{'10:0',\n",
       " '12:0',\n",
       " '14:0',\n",
       " '16:0',\n",
       " '16:1',\n",
       " '18:0',\n",
       " '18:1',\n",
       " '18:2',\n",
       " '18:3',\n",
       " '18:4',\n",
       " '20:1',\n",
       " '20:4',\n",
       " '22:1',\n",
       " '4:0',\n",
       " '6:0',\n",
       " '8:0',\n",
       " 'Energy',\n",
       " 'Folate, DFE',\n",
       " 'Vitamin A, RAE'}"
      ]
     },
     "execution_count": 20,
     "metadata": {},
     "output_type": "execute_result"
    }
   ],
   "source": [
    "VitaminA=['Retinol', 'Carotene, beta', 'Carotene, alpha', 'Cryptoxanthin, beta']\n",
    "CaloryDecomp=['Protein','Total Fat','Carbohydrate']\n",
    "\n",
    "# FDC20['nutrient']\n",
    "NutDesc = pd.read_excel('input_data/NutDesc.xlsx')\n",
    "all_nuts = list(NutDesc['Nutrient description'])\n",
    "print(\"AllNuts [{}]: {}\".format(len(all_nuts), all_nuts))\n",
    "\n",
    "\n",
    "# RFFNDDSpredS = pd.read_csv('data/RFFNDDSpredS_cleaned.csv')\n",
    "RFFNDDSpredS = pd.read_csv('input_data/FNDDS_2009-10_Training_Data.csv')\n",
    "\n",
    "RFFNDDSpredS = RFFNDDSpredS.loc[:, 'Protein': 'Fatty acids, total polyunsaturated']\n",
    "g_nuts = list(RFFNDDSpredS.columns)\n",
    "\n",
    "print(\"\\nG Nuts [{}]: {}\".format(len(g_nuts), g_nuts))\n",
    "\n",
    "set(all_nuts) - set(g_nuts)"
   ]
  },
  {
   "cell_type": "code",
   "execution_count": 21,
   "metadata": {
    "scrolled": true
   },
   "outputs": [
    {
     "name": "stdout",
     "output_type": "stream",
     "text": [
      "Warning: only for two datasets ['survey_fndds_food', 'branded_food'] targeted tables are used for retrieving categories. For the remaining datasets FDC20['food'][['FDC_category_description']] is used!\n"
     ]
    },
    {
     "data": {
      "text/html": [
       "<div>\n",
       "<style scoped>\n",
       "    .dataframe tbody tr th:only-of-type {\n",
       "        vertical-align: middle;\n",
       "    }\n",
       "\n",
       "    .dataframe tbody tr th {\n",
       "        vertical-align: top;\n",
       "    }\n",
       "\n",
       "    .dataframe thead th {\n",
       "        text-align: right;\n",
       "    }\n",
       "</style>\n",
       "<table border=\"1\" class=\"dataframe\">\n",
       "  <thead>\n",
       "    <tr style=\"text-align: right;\">\n",
       "      <th></th>\n",
       "      <th>id</th>\n",
       "      <th>count_nutrients</th>\n",
       "      <th>category_name</th>\n",
       "    </tr>\n",
       "  </thead>\n",
       "  <tbody>\n",
       "    <tr>\n",
       "      <th>0</th>\n",
       "      <td>781082</td>\n",
       "      <td>65</td>\n",
       "      <td>Human milk</td>\n",
       "    </tr>\n",
       "    <tr>\n",
       "      <th>1</th>\n",
       "      <td>781083</td>\n",
       "      <td>65</td>\n",
       "      <td>Milk, reduced fat</td>\n",
       "    </tr>\n",
       "    <tr>\n",
       "      <th>2</th>\n",
       "      <td>781084</td>\n",
       "      <td>65</td>\n",
       "      <td>Milk, whole</td>\n",
       "    </tr>\n",
       "    <tr>\n",
       "      <th>3</th>\n",
       "      <td>781085</td>\n",
       "      <td>65</td>\n",
       "      <td>Milk, whole</td>\n",
       "    </tr>\n",
       "    <tr>\n",
       "      <th>4</th>\n",
       "      <td>781086</td>\n",
       "      <td>65</td>\n",
       "      <td>Milk, whole</td>\n",
       "    </tr>\n",
       "    <tr>\n",
       "      <th>...</th>\n",
       "      <td>...</td>\n",
       "      <td>...</td>\n",
       "      <td>...</td>\n",
       "    </tr>\n",
       "    <tr>\n",
       "      <th>8685</th>\n",
       "      <td>789767</td>\n",
       "      <td>65</td>\n",
       "      <td>Not included in a food category</td>\n",
       "    </tr>\n",
       "    <tr>\n",
       "      <th>8686</th>\n",
       "      <td>789768</td>\n",
       "      <td>65</td>\n",
       "      <td>Not included in a food category</td>\n",
       "    </tr>\n",
       "    <tr>\n",
       "      <th>8687</th>\n",
       "      <td>789769</td>\n",
       "      <td>65</td>\n",
       "      <td>Not included in a food category</td>\n",
       "    </tr>\n",
       "    <tr>\n",
       "      <th>8688</th>\n",
       "      <td>789770</td>\n",
       "      <td>65</td>\n",
       "      <td>Not included in a food category</td>\n",
       "    </tr>\n",
       "    <tr>\n",
       "      <th>8689</th>\n",
       "      <td>789771</td>\n",
       "      <td>65</td>\n",
       "      <td>Diet sport and energy drinks</td>\n",
       "    </tr>\n",
       "  </tbody>\n",
       "</table>\n",
       "<p>8690 rows × 3 columns</p>\n",
       "</div>"
      ],
      "text/plain": [
       "          id  count_nutrients                    category_name\n",
       "0     781082  65               Human milk                     \n",
       "1     781083  65               Milk, reduced fat              \n",
       "2     781084  65               Milk, whole                    \n",
       "3     781085  65               Milk, whole                    \n",
       "4     781086  65               Milk, whole                    \n",
       "...      ...  ..                       ...                    \n",
       "8685  789767  65               Not included in a food category\n",
       "8686  789768  65               Not included in a food category\n",
       "8687  789769  65               Not included in a food category\n",
       "8688  789770  65               Not included in a food category\n",
       "8689  789771  65               Diet sport and energy drinks   \n",
       "\n",
       "[8690 rows x 3 columns]"
      ]
     },
     "execution_count": 21,
     "metadata": {},
     "output_type": "execute_result"
    }
   ],
   "source": [
    "def food_table_nuts_count_dis(dataset_name, debug=False, remove_energy_nutrients_or_nuts_with_equivalents=False):\n",
    "#     if dataset_name == \"branded_food\":\n",
    "#         raise Exception(\"For branded_food use its special table FDC20['branded_food'] to get categories!\")\n",
    "    \n",
    "    food_df = FDC20[\"food\"][FDC20[\"food\"][\"data_type\"] == dataset_name]\n",
    "    \n",
    "    food_nuts_df = pd.merge(\n",
    "        food_df[[\"fdc_id\"]],\n",
    "        FDC20[\"food_nutrient\"][[\"fdc_id\", \"nutrient_id\", \"amount\"]], \n",
    "        on=\"fdc_id\", how=\"left\"\n",
    "    )\n",
    "    \n",
    "    if debug: # was using this find nutrients ids that needs to be removed\n",
    "        food_nuts_df = pd.merge(food_nuts_df, FDC20[\"nutrient\"][[\"id\", \"name\"]], left_on=\"nutrient_id\", right_on=\"id\").drop(columns=[\"id\"])\n",
    "        food_nuts_df[\"name\"] = food_nuts_df[\"name\"] + \" \" + food_nuts_df[\"nutrient_id\"].astype(str)\n",
    "    \n",
    "#     remove energy nutrients or equivalents \n",
    "    if False and remove_energy_nutrients_or_nuts_with_equivalents and dataset_name in [\"survey_fndds_food\", \"sr_legacy_food\"]:\n",
    "        remove_nuts_FoodDataCentral_ids = {\n",
    "            'Energy KCAL': 1008, # 'Energy 1008' unit: KCAL\n",
    "            # in FNDDS is called 'Energy' with nut id 1008\n",
    "            'Energy kJ': 1062, # 'Energy 1062' unit: kJ (this id is NOT used in FNDDS)\n",
    "            'Folate, DFE': 1190, # 'Folate, DFE 1190',\n",
    "            'Vitamin A, RAE': 1106 # 'Vitamin A, RAE 1106'\n",
    "        }\n",
    "        \n",
    "        food_nuts_df = food_nuts_df[~food_nuts_df[\"nutrient_id\"].isin(remove_nuts_FoodDataCentral_ids.values())]\n",
    "        \n",
    "        pass\n",
    "    \n",
    "#     return food_nuts_df\n",
    "    food_nuts_df_non_zero_nuts = (\n",
    "        food_nuts_df[~pd.isnull(food_nuts_df).any(axis=1)]\n",
    "        .groupby(\"fdc_id\")\n",
    "        .agg({\"nutrient_id\": np.size})\n",
    "        .rename(columns={\"nutrient_id\": \"count_nutrients\"})\n",
    "    )\n",
    "    \n",
    "    food_nuts_items_with_zero_nuts_df = food_nuts_df[food_nuts_df[\"amount\"].isnull()].drop(columns=[\"nutrient_id\", \"amount\"])\n",
    "    food_nuts_items_with_zero_nuts_df[\"count_nutrients\"] = 0\n",
    "    \n",
    "    food_nuts_all_df = pd.concat([\n",
    "        food_nuts_df_non_zero_nuts.reset_index(), \n",
    "        food_nuts_items_with_zero_nuts_df.reset_index()\n",
    "    ])\n",
    "    \n",
    "    if dataset_name == \"survey_fndds_food\":\n",
    "        category_df=FDC20[\"survey_fndds_food\"]\n",
    "        category_column = \"wweia_food_category_description\"\n",
    "        \n",
    "    elif dataset_name == \"branded_food\":\n",
    "        category_df = FDC20[\"branded_food\"]\n",
    "        category_column = \"branded_food_category\"\n",
    "        \n",
    "    else:\n",
    "        category_df=FDC20[\"food\"]\n",
    "        category_column = \"FDC_category_description\"\n",
    "    \n",
    "    print(\"Warning: only for two datasets ['survey_fndds_food', 'branded_food'] targeted tables are used for retrieving categories. For the remaining datasets FDC20['food'][['FDC_category_description']] is used!\")\n",
    "    \n",
    "    food_nuts_all_df = pd.merge(\n",
    "        food_nuts_all_df,\n",
    "        category_df[[\"fdc_id\", category_column]],\n",
    "        on=\"fdc_id\", how=\"left\").rename(columns={\n",
    "            category_column: \"category_name\",\n",
    "            \"fdc_id\": \"id\"\n",
    "    }).drop(columns=\"index\")\n",
    "    \n",
    "#     if dataset_name in [\"survey_fndds_food\"]:\n",
    "#         remove_nuts_FNDDS_ids = {\n",
    "#             'Energy': 208,\n",
    "#             'Folate, DFE': 435,\n",
    "#             'Vitamin A, RAE': 320\n",
    "#         }\n",
    "\n",
    "#         remove_nuts_FoodDataCentral_ids = {\n",
    "#             'Energy': 1008, # 'Energy 1008' unit: KCAL\n",
    "#             'Energy': 1062, # 'Energy 1062' unit: kJ (this id is NOT used in FNDDS)\n",
    "#             'Folate, DFE': 1190, # 'Folate, DFE 1190',\n",
    "#             'Vitamin A, RAE': 1106 # 'Vitamin A, RAE 1106'\n",
    "#         }\n",
    "#         v1 = [\"Protein\",\"Total Fat\",\"Carbohydrate\",\"Alcohol\",\n",
    "#       \"@DEL Energy\", \"Water\",\"Caffeine\",\"Theobromine\",\"Sugars, total\",\"Fiber, total dietary\",\"Calcium\",\"Iron\",\"Magnesium\",\"Phosphorus\",\"Potassium\",\"Sodium\",\"Zinc\",\"Copper\",\"Selenium\",\"Retinol\",\n",
    "#       \"@DEL Vitamin A, RAE\",\n",
    "#       \"Carotene, beta\",\"Carotene, alpha\",\"Vitamin E (alpha-tocopherol)\",\"Vitamin D (D2 + D3)\",\"Cryptoxanthin, beta\",\"Lycopene\",\"Lutein + zeaxanthin\",\"Vitamin C\",\"Thiamin\",\"Riboflavin\",\"Niacin\",\"Vitamin B-6\",\"Folate, total\",\"Vitamin B-12\",\"Choline, total\",\"Vitamin K (phylloquinone)\",\"Folic acid\",\"Folate, food\",\n",
    "#       \"@DEL Folate, DFE\",\n",
    "#       \"Vitamin E, added\",\"Vitamin B-12, added\",\"Cholesterol\",\"Fatty acids, total saturated\",\"4:00\",\"6:00\",\"8:00\",\"10:00\",\"12:00\",\"14:00\",\"16:00\",\"18:00\",\"18:01\",\"18:02\",\"18:03\",\"20:04\",\"22:6 n-3\",\"16:01\",\"18:04\",\"20:01\",\"20:5 n-3\", \"22:01\", \"22:5 n-3\",\"Fatty acids, total monounsaturated\",\"Fatty acids, total polyunsaturated\"]\n",
    "        \n",
    "# #         Three nutrients are not directly used in giulia's classifier so lets ignore them [\"@DEL Energy\", \"@DEL Vitamin A, RAE\", \"@DEL Folate, DFE\"]\n",
    "        \n",
    "#         food_nuts_all_df[\"count_nutrients\"] = food_nuts_all_df[\"count_nutrients\"] - 3\n",
    "#         pass\n",
    "    \n",
    "    return food_nuts_all_df\n",
    "\n",
    "\"\"\"\n",
    " \tdescription\n",
    "data_type \t\n",
    "agricultural_acquisition \t810\n",
    "branded_food \t299462\n",
    "foundation_food \t116\n",
    "market_acquisition \t5229\n",
    "sample_food \t1731\n",
    "sr_legacy_food \t7793\n",
    "sub_sample_food \t11311\n",
    "survey_fndds_food \t8690\n",
    "\"\"\"\n",
    "# print(FNDDS_remove_nuts_FoodDataCentral_ids)\n",
    "q = food_table_nuts_count_dis(dataset_name=\"survey_fndds_food\", debug=False, remove_energy_nutrients_or_nuts_with_equivalents=False)\n",
    "# len(q[\"name\"].unique())\n",
    "# q[\"count_nutrients\"].unique()\n",
    "q"
   ]
  },
  {
   "cell_type": "code",
   "execution_count": 22,
   "metadata": {
    "scrolled": true
   },
   "outputs": [
    {
     "name": "stdout",
     "output_type": "stream",
     "text": [
      "dict_keys(['nutrient', 'food_nutrient', 'food', 'branded_food', 'food_category', 'food_attribute', 'survey_fndds_food', 'wweia_food_category'])\n"
     ]
    },
    {
     "data": {
      "text/plain": [
       "array(['Calcium, Ca', 'Iron, Fe', 'Vitamin A, IU',\n",
       "       'Vitamin C, total ascorbic acid', 'Cholesterol', 'Protein',\n",
       "       'Total lipid (fat)', 'Carbohydrate, by difference', 'Energy',\n",
       "       'Sugars, total including NLEA', 'Fiber, total dietary',\n",
       "       'Sodium, Na', 'Fatty acids, total trans',\n",
       "       'Fatty acids, total saturated',\n",
       "       'Fatty acids, total monounsaturated',\n",
       "       'Fatty acids, total polyunsaturated', 'Thiamin', 'Riboflavin',\n",
       "       'Niacin', 'Folate, total', 'Potassium, K',\n",
       "       'Vitamin D (D2 + D3), International Units', 'Folic acid',\n",
       "       'Folate, DFE', 'Zinc, Zn', 'Vitamin B-6', 'Vitamin B-12',\n",
       "       'Fiber, soluble', 'Magnesium, Mg', 'Phosphorus, P',\n",
       "       'Vitamin E (label entry primarily)', 'Pantothenic acid',\n",
       "       'Copper, Cu', 'Caffeine', 'Fiber, insoluble', 'Ash', 'Water',\n",
       "       'Manganese, Mn', 'Vitamin K (phylloquinone)',\n",
       "       'Vitamin D (D2 + D3)', 'Starch', 'Iodine, I', 'Molybdenum, Mo',\n",
       "       'Chromium, Cr', 'Selenium, Se', 'Biotin', 'Chlorine, Cl',\n",
       "       'Choline, total', 'Inositol', 'Total sugar alcohols',\n",
       "       'Sugars, added', 'Vitamin E', 'Tryptophan', 'Threonine', 'Leucine',\n",
       "       'Lysine', 'Methionine', 'Cystine', 'Phenylalanine', 'Tyrosine',\n",
       "       'Valine', 'Arginine', 'Histidine', 'Alanine', 'Aspartic acid',\n",
       "       'Glutamic acid', 'Glycine', 'Proline', 'Serine',\n",
       "       'Carbohydrate, other', 'Vitamin E (alpha-tocopherol)', 'Xylitol',\n",
       "       'Isoleucine', 'Lactose', 'Carotene, beta', 'Lutein + zeaxanthin',\n",
       "       'Sorbitol', 'Alcohol, ethyl', 'Choline, from phosphotidyl choline',\n",
       "       '18:2', '18:2 n-6 c,c', 'Taurine', 'Vitamin D3 (cholecalciferol)',\n",
       "       'Cysteine', 'Glutamine', '18:3 n-3 c,c,c (ALA)', 'Fluoride, F',\n",
       "       'Fructose', 'Acetic acid', 'Lactic acid',\n",
       "       'Epigallocatechin-3-gallate', 'Glucose (dextrose)', '8:0', '10:0',\n",
       "       '12:0', 'Inulin', 'Ribose'], dtype=object)"
      ]
     },
     "execution_count": 22,
     "metadata": {},
     "output_type": "execute_result"
    }
   ],
   "source": [
    "print(FDC20.keys())\n",
    "\n",
    "food_df = FDC20['branded_food']\n",
    "\n",
    "food_nuts_df = pd.merge(\n",
    "        food_df[[\"fdc_id\"]],\n",
    "        FDC20[\"food_nutrient\"][[\"fdc_id\", \"nutrient_id\", \"amount\"]], \n",
    "        on=\"fdc_id\", how=\"left\"\n",
    "    )\n",
    "\n",
    "food_nuts_df = pd.merge(food_nuts_df, FDC20['nutrient'], left_on='nutrient_id', right_on='id')\n",
    "food_nuts_df\n",
    "\n",
    "food_nuts_df['name'].unique()"
   ]
  },
  {
   "cell_type": "raw",
   "metadata": {
    "scrolled": true
   },
   "source": [
    "gc = grocery_store_data[grocery_store_data['store'] == \"Walmart\"]\n",
    "\n",
    "gc.describe()"
   ]
  },
  {
   "cell_type": "code",
   "execution_count": 23,
   "metadata": {
    "scrolled": true
   },
   "outputs": [
    {
     "name": "stdout",
     "output_type": "stream",
     "text": [
      "Warning: only for two datasets ['survey_fndds_food', 'branded_food'] targeted tables are used for retrieving categories. For the remaining datasets FDC20['food'][['FDC_category_description']] is used!\n"
     ]
    },
    {
     "name": "stderr",
     "output_type": "stream",
     "text": [
      "C:\\anaconda3\\envs\\foodome\\lib\\site-packages\\seaborn\\distributions.py:2557: FutureWarning:\n",
      "\n",
      "`distplot` is a deprecated function and will be removed in a future version. Please adapt your code to use either `displot` (a figure-level function with similar flexibility) or `histplot` (an axes-level function for histograms).\n",
      "\n"
     ]
    },
    {
     "data": {
      "image/png": "[encoded data removed]",
      "text/plain": [
       "<Figure size 1008x180 with 2 Axes>"
      ]
     },
     "metadata": {
      "needs_background": "light"
     },
     "output_type": "display_data"
    }
   ],
   "source": [
    "USDA_branded_products_num_nuts_df = food_table_nuts_count_dis(dataset_name=\"branded_food\", remove_energy_nutrients_or_nuts_with_equivalents=False)\n",
    "\n",
    "if False:\n",
    "    USDA_branded_products_num_nuts_df.to_csv(\"data/USDA/USDA_Branded_food_num_nutrients_products_299462.csv\")\n",
    "    pass\n",
    "\n",
    "plot_nuts({\n",
    "    \"USDA Branded\": {\"dist_array\": USDA_branded_products_num_nuts_df[\"count_nutrients\"]}\n",
    "})"
   ]
  },
  {
   "cell_type": "code",
   "execution_count": 21,
   "metadata": {
    "scrolled": false
   },
   "outputs": [
    {
     "name": "stdout",
     "output_type": "stream",
     "text": [
      "Warning: only for two datasets ['survey_fndds_food', 'branded_food'] targeted tables are used for retrieving categories. For the remaining datasets FDC20['food'][['FDC_category_description']] is used!\n"
     ]
    },
    {
     "name": "stderr",
     "output_type": "stream",
     "text": [
      "C:\\anaconda3\\envs\\foodome\\lib\\site-packages\\seaborn\\distributions.py:2557: FutureWarning:\n",
      "\n",
      "`distplot` is a deprecated function and will be removed in a future version. Please adapt your code to use either `displot` (a figure-level function with similar flexibility) or `histplot` (an axes-level function for histograms).\n",
      "\n",
      "C:\\anaconda3\\envs\\foodome\\lib\\site-packages\\seaborn\\distributions.py:306: UserWarning:\n",
      "\n",
      "Dataset has 0 variance; skipping density estimate.\n",
      "\n"
     ]
    },
    {
     "data": {
      "image/png": "[encoded data removed]",
      "text/plain": [
       "<Figure size 1008x180 with 2 Axes>"
      ]
     },
     "metadata": {
      "needs_background": "light"
     },
     "output_type": "display_data"
    }
   ],
   "source": [
    "fndds_food_nuts_dist_df = food_table_nuts_count_dis(\"survey_fndds_food\", remove_energy_nutrients_or_nuts_with_equivalents=False)\n",
    "\n",
    "if False:\n",
    "    sr_legacy_food_nuts_dist_df.to_csv(\"data/USDA/USDA_FNDDS_num_nutrients_products_8690.csv\")\n",
    "\n",
    "plot_nuts({\n",
    "    \"FNDDS\": {\"dist_array\": fndds_food_nuts_dist_df[\"count_nutrients\"]}\n",
    "})"
   ]
  },
  {
   "cell_type": "code",
   "execution_count": 22,
   "metadata": {},
   "outputs": [
    {
     "name": "stdout",
     "output_type": "stream",
     "text": [
      "Warning: only for two datasets ['survey_fndds_food', 'branded_food'] targeted tables are used for retrieving categories. For the remaining datasets FDC20['food'][['FDC_category_description']] is used!\n"
     ]
    },
    {
     "name": "stderr",
     "output_type": "stream",
     "text": [
      "C:\\anaconda3\\envs\\foodome\\lib\\site-packages\\seaborn\\distributions.py:2557: FutureWarning:\n",
      "\n",
      "`distplot` is a deprecated function and will be removed in a future version. Please adapt your code to use either `displot` (a figure-level function with similar flexibility) or `histplot` (an axes-level function for histograms).\n",
      "\n"
     ]
    },
    {
     "data": {
      "image/png": "[encoded data removed]",
      "text/plain": [
       "<Figure size 1008x180 with 2 Axes>"
      ]
     },
     "metadata": {
      "needs_background": "light"
     },
     "output_type": "display_data"
    }
   ],
   "source": [
    "sr_legacy_food_nuts_dist_df = food_table_nuts_count_dis(\"sr_legacy_food\", remove_energy_nutrients_or_nuts_with_equivalents=False)\n",
    "\n",
    "if False:\n",
    "    sr_legacy_food_nuts_dist_df.to_csv(\"data/USDA/USDA_sr_legacy_num_nutrients_products_7793.csv\")\n",
    "    \n",
    "plot_nuts({\n",
    "    \"SR Legacy\": {\"dist_array\": sr_legacy_food_nuts_dist_df[\"count_nutrients\"]}\n",
    "})"
   ]
  }
 ],
 "metadata": {
  "kernelspec": {
   "display_name": "Foodome",
   "language": "python",
   "name": "foodome-python-3.8"
  },
  "language_info": {
   "codemirror_mode": {
    "name": "ipython",
    "version": 3
   },
   "file_extension": ".py",
   "mimetype": "text/x-python",
   "name": "python",
   "nbconvert_exporter": "python",
   "pygments_lexer": "ipython3",
   "version": "3.8.8"
  },
  "toc": {
   "base_numbering": 1,
   "nav_menu": {},
   "number_sections": true,
   "sideBar": true,
   "skip_h1_title": false,
   "title_cell": "Table of Contents",
   "title_sidebar": "Contents",
   "toc_cell": false,
   "toc_position": {
    "height": "calc(100% - 180px)",
    "left": "10px",
    "top": "150px",
    "width": "204px"
   },
   "toc_section_display": true,
   "toc_window_display": true
  },
  "varInspector": {
   "cols": {
    "lenName": 16,
    "lenType": 16,
    "lenVar": 40
   },
   "kernels_config": {
    "python": {
     "delete_cmd_postfix": "",
     "delete_cmd_prefix": "del ",
     "library": "var_list.py",
     "varRefreshCmd": "print(var_dic_list())"
    },
    "r": {
     "delete_cmd_postfix": ") ",
     "delete_cmd_prefix": "rm(",
     "library": "var_list.r",
     "varRefreshCmd": "cat(var_dic_list()) "
    }
   },
   "types_to_exclude": [
    "module",
    "function",
    "builtin_function_or_method",
    "instance",
    "_Feature"
   ],
   "window_display": false
  }
 },
 "nbformat": 4,
 "nbformat_minor": 4
}
